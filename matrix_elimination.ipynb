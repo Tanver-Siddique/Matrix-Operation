{
 "cells": [
  {
   "cell_type": "markdown",
   "id": "f2970310-1747-4df5-a3f6-40eff84e66f5",
   "metadata": {},
   "source": [
    "# Matrix elimination (Gauss method)"
   ]
  },
  {
   "cell_type": "markdown",
   "id": "2df940a5-37e4-4d2b-98d4-b631d993dd60",
   "metadata": {},
   "source": [
    "This method works only with square matrices where the number of unknowns equals the number of matrix rows."
   ]
  },
  {
   "cell_type": "code",
   "execution_count": 2,
   "id": "eba64fe0-7220-40dc-80d6-7b5d0c129d4d",
   "metadata": {},
   "outputs": [],
   "source": [
    "import numpy as np"
   ]
  },
  {
   "cell_type": "markdown",
   "id": "12d9296c-47fc-4016-81db-127ed08b6406",
   "metadata": {},
   "source": [
    "Solve the linear equation using the Gauss elimination method and produce an upper triangular matrix."
   ]
  },
  {
   "cell_type": "markdown",
   "id": "fa6976ed-2c22-43f0-9faf-da61fa8c67a3",
   "metadata": {},
   "source": [
    "$\n",
    "x + y+ z = 5 \n",
    "$\n",
    "\n",
    "$\n",
    "2x - z = 4\n",
    "$\n",
    "\n",
    "$\n",
    "3y + z = 2\n",
    "$"
   ]
  },
  {
   "cell_type": "markdown",
   "id": "e797384f-2fff-49a3-977b-b54ca8bb6792",
   "metadata": {},
   "source": [
    "Create a matrix based on the value of the left side of the linear equation."
   ]
  },
  {
   "cell_type": "code",
   "execution_count": 4,
   "id": "45cb65ea-20e1-4f74-b2d2-ed3ce40a24c1",
   "metadata": {},
   "outputs": [],
   "source": [
    "mat1 = np.array([\n",
    "    [1, 1, 1],\n",
    "    [2, 3, -1],\n",
    "    [1, 3, 1]\n",
    "])"
   ]
  },
  {
   "cell_type": "markdown",
   "id": "02b8ad23-d4d2-412a-bd44-9193a48ec93d",
   "metadata": {},
   "source": [
    "Create the second matrix based on the value of the right side of the linear matrix. "
   ]
  },
  {
   "cell_type": "code",
   "execution_count": 5,
   "id": "5ab6789d-a1e0-4a53-b8fb-27051519f70e",
   "metadata": {},
   "outputs": [],
   "source": [
    "mat2 = np.array([\n",
    "    [5],\n",
    "    [4],\n",
    "    [2]\n",
    "])"
   ]
  },
  {
   "cell_type": "markdown",
   "id": "fa2b078b-5b9d-4927-be46-e43559d04774",
   "metadata": {},
   "source": [
    "Created a function that calculates the unknown value of the linear equation variables."
   ]
  },
  {
   "cell_type": "code",
   "execution_count": 29,
   "id": "8ceb9683-b88c-424d-97a1-4dac118050fe",
   "metadata": {},
   "outputs": [],
   "source": [
    "def mat_eli(m1, m2):\n",
    "    row, col = m1.shape\n",
    "\n",
    "    '''Check and Swape the row if zero is present in the pivot position of the row'''\n",
    "    for r in range(1, row):\n",
    "        # Check the pivot, if it is 0 then swap the row to the next row\n",
    "        if m1[r-1, r-1] == 0:\n",
    "            # Create a copy of the current row\n",
    "            replace1 = m1[r-1, ].copy()\n",
    "            replace2 = m2[r-1, ].copy()\n",
    "            # Swap the current row with the next row\n",
    "            m1[r-1, ] = m1[r, ]\n",
    "            m2[r-1, ] = m2[r, ]\n",
    "            # Replace the next row of the current row index with the copied current row\n",
    "            m1[r, ] = replace1\n",
    "            m2[r, ] = replace2\n",
    "\n",
    "    '''Emply the Gaussian elimination technique to establish an upper triangular form matrix'''\n",
    "    for i in range(row-1):\n",
    "        # Loop through each row as a pivot row\n",
    "        pivot = m1[i, i]\n",
    "        for r in range(i + 1, row):\n",
    "            # Calculate the multiplier for the current row\n",
    "            temp = m1[r, i] / pivot\n",
    "            # Update the corresponding value in matrix m2\n",
    "            m2[r, 0] = m2[r, 0] - m2[i, 0] * temp\n",
    "            # Loop over each column in matrix1 to create upper triangular matrix\n",
    "            for c in range(col):\n",
    "                # Uptade the matrix1 column element by multiplying and subtract \n",
    "                m1[r, c] = m1[r, c] - m1[i, c] * temp\n",
    "\n",
    "    '''Imply substituting back to find the unknown variables in the linear equation equation'''\n",
    "    # Initialize solution null matrix\n",
    "    x = np.zeros(col)\n",
    "    # base case for back substitution\n",
    "    x[col - 1] = m2[col - 1, 0] / m1[col - 1, col - 1]\n",
    "    # Perform back substitution to solve for remaining variables\n",
    "    for i in range(col-2, -1, -1):\n",
    "        # Take the value of the second matrix as a right-hand side\n",
    "        total = m2[i, 0]\n",
    "        # Subtract the known value from the right-hand side\n",
    "        for j in range(i + 1, col):\n",
    "            total = total - m1[i, j] * x[j]\n",
    "        # Solve for the current variable\n",
    "        x[i] = total / m1[i, i]\n",
    "    # return the value of the linear equation variables as an ndarray\n",
    "    return x"
   ]
  },
  {
   "cell_type": "code",
   "execution_count": 31,
   "id": "904b86e7-5bbb-4a2e-9071-e29e0dfb9acb",
   "metadata": {},
   "outputs": [
    {
     "name": "stdout",
     "output_type": "stream",
     "text": [
      "[ 5.  -1.5  1.5]\n"
     ]
    }
   ],
   "source": [
    "print(mat_eli(mat1, mat2))"
   ]
  },
  {
   "cell_type": "code",
   "execution_count": null,
   "id": "a28fe02a-db24-4961-910e-2446dcbbcd73",
   "metadata": {},
   "outputs": [],
   "source": []
  }
 ],
 "metadata": {
  "kernelspec": {
   "display_name": "Python [conda env:test_env]",
   "language": "python",
   "name": "conda-env-test_env-py"
  },
  "language_info": {
   "codemirror_mode": {
    "name": "ipython",
    "version": 3
   },
   "file_extension": ".py",
   "mimetype": "text/x-python",
   "name": "python",
   "nbconvert_exporter": "python",
   "pygments_lexer": "ipython3",
   "version": "3.13.2"
  }
 },
 "nbformat": 4,
 "nbformat_minor": 5
}
