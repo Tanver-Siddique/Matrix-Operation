{
 "cells": [
  {
   "cell_type": "markdown",
   "id": "548bfb9c-225f-4909-b1c5-84f16389626a",
   "metadata": {},
   "source": [
    "# Inverse Matrix by Gauss-Jordan Elimination Method"
   ]
  },
  {
   "cell_type": "markdown",
   "id": "ae509111-2298-4505-b2d5-f7c162d604b5",
   "metadata": {},
   "source": [
    "A matrix is invertible when its determinant is not equal to zero."
   ]
  },
  {
   "cell_type": "markdown",
   "id": "74305c3e-f6de-49d7-9013-7de5836ed475",
   "metadata": {},
   "source": [
    "Suppose a matrix is:\n",
    "$\n",
    "A = \\begin{bmatrix}\n",
    "2 & 1 \\\\\n",
    "7 & 4\n",
    "\\end{bmatrix}\n",
    "$"
   ]
  },
  {
   "cell_type": "markdown",
   "id": "d6c09a85-7a42-4276-8d3c-62e950b46240",
   "metadata": {},
   "source": [
    "To determine the $A^{-1}$, first we have to create the augmented matrix with identical matrix,\\\n",
    "$\n",
    "\\left[\n",
    "\\begin{array}{cc|cc}\n",
    "2 & 1 & 1 & 0 \\\\\n",
    "7 & 4 & 0 & 1\n",
    "\\end{array}\n",
    "\\right]\n",
    "$"
   ]
  },
  {
   "cell_type": "markdown",
   "id": "9f17528d-e6ef-40e6-b90d-77645ba1faca",
   "metadata": {},
   "source": [
    "Then, using the Gauss-Jordan elimination method, create an identical matrix on the left side, and the matrix on the right is our inverse matrix."
   ]
  },
  {
   "cell_type": "code",
   "execution_count": 190,
   "id": "8687a4d9-27f7-43b3-9264-2fa8281ea8a3",
   "metadata": {},
   "outputs": [],
   "source": [
    "import numpy as np"
   ]
  },
  {
   "cell_type": "code",
   "execution_count": 192,
   "id": "3e0322e2-a62a-4189-841e-b407d4ab9ae3",
   "metadata": {},
   "outputs": [],
   "source": [
    "mat = np.array([\n",
    "    [2, 1],\n",
    "    [7, 4]\n",
    "], dtype = np.float32)"
   ]
  },
  {
   "cell_type": "code",
   "execution_count": 194,
   "id": "2b927e2d-f564-4abb-8200-422448137061",
   "metadata": {},
   "outputs": [],
   "source": [
    "def mat_inverse(m):\n",
    "    det = np.linalg.det(m)\n",
    "    if det == 0:\n",
    "        return f':( matrix is not invertible!'\n",
    "\n",
    "    n = m.shape[0]\n",
    "    inv = np.eye(n)\n",
    "    '''Create an upper triangular matrix using the Gauss method''' \n",
    "    for r in range(n-1):\n",
    "        # Check the pivot position; if a zero is present, then a row swap will be performed. \n",
    "        if m[r, r] == 0:\n",
    "            m[[r, r+1]] = m[[r+1, r]]\n",
    "            inv[[r, r+1]] = inv[[r+1, r]]\n",
    "        pivot = m[r, r]\n",
    "        for i in range(r+1, n, 1):\n",
    "            temp = m[i, r] / pivot\n",
    "            for c in range(n):\n",
    "                m[i, c] = m[i, c] - m[r, c] * temp\n",
    "                inv[i, c] = inv[i, c] - inv[r, c] * temp\n",
    "    '''Create an upper triangular matric using the Jordan method'''\n",
    "    for r in range(n-1, 0, -1):\n",
    "        pivot = m[r, r]\n",
    "        for i in range(r-1, -1, -1):\n",
    "            temp = m[i, r] / pivot\n",
    "            for c in range(n):\n",
    "                m[i, c] = m[i, c] - m[r, c] * temp\n",
    "                inv[i, c] = inv[i, c] - inv[r, c] * temp\n",
    "    '''Create identity matrix provided matrix'''\n",
    "    for i in range(n):\n",
    "        pivot = m[i, i]\n",
    "        m[i, i] = m[i, i] / pivot\n",
    "        for c in range(n):\n",
    "            inv[i, c] = inv[i, c] / pivot\n",
    "            \n",
    "    return inv\n",
    "    "
   ]
  },
  {
   "cell_type": "code",
   "execution_count": 196,
   "id": "8debf146-253b-4a40-8584-ab5292ea96a4",
   "metadata": {},
   "outputs": [
    {
     "name": "stdout",
     "output_type": "stream",
     "text": [
      "[[ 4. -1.]\n",
      " [-7.  2.]]\n"
     ]
    }
   ],
   "source": [
    "print(mat_inverse(mat))"
   ]
  },
  {
   "cell_type": "code",
   "execution_count": null,
   "id": "c4ee8a58-2527-45ad-a9db-0e6e843a6159",
   "metadata": {},
   "outputs": [],
   "source": []
  }
 ],
 "metadata": {
  "kernelspec": {
   "display_name": "Python [conda env:test_env]",
   "language": "python",
   "name": "conda-env-test_env-py"
  },
  "language_info": {
   "codemirror_mode": {
    "name": "ipython",
    "version": 3
   },
   "file_extension": ".py",
   "mimetype": "text/x-python",
   "name": "python",
   "nbconvert_exporter": "python",
   "pygments_lexer": "ipython3",
   "version": "3.13.2"
  }
 },
 "nbformat": 4,
 "nbformat_minor": 5
}
