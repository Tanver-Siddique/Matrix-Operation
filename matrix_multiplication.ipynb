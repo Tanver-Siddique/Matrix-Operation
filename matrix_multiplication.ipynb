{
 "cells": [
  {
   "cell_type": "markdown",
   "id": "012f4b50-a605-41bf-8910-e4c359e88c2b",
   "metadata": {},
   "source": [
    "# Multiplication of Two Matrices "
   ]
  },
  {
   "cell_type": "markdown",
   "id": "18cd1dc8-1c0e-4ef3-bfac-275d1033e8b9",
   "metadata": {},
   "source": [
    "To multiply matrices, the first matrix's column number must be equal to the second matrix's row number. And the output matrix should have an equal number of first matrix rows and second matrix columns."
   ]
  },
  {
   "cell_type": "markdown",
   "id": "ef5623be-490c-4585-b9b9-643facf8cd4c",
   "metadata": {},
   "source": [
    "### Suppose a problem is:\n",
    "$\n",
    "A = \\begin{bmatrix}\n",
    "1 & 2 \\\\\n",
    "3 & 4 \\\\\n",
    "0 & 1 \n",
    "\\end{bmatrix}\n",
    "$\n",
    "$\n",
    "B = \\begin{bmatrix}\n",
    "4 & 3 \\\\\n",
    "2 & 1\n",
    "\\end{bmatrix}\n",
    "$\n",
    ",\n",
    "$ AB = ? $"
   ]
  },
  {
   "cell_type": "code",
   "execution_count": 20,
   "id": "894cf984-43d3-448b-8872-eabd8cd6a68b",
   "metadata": {},
   "outputs": [],
   "source": [
    "# import numpy for making dimensonal array\n",
    "import numpy as np"
   ]
  },
  {
   "cell_type": "code",
   "execution_count": 129,
   "id": "f1f94d5c-d9b9-4ac8-b0a6-1e8e9519ba8e",
   "metadata": {},
   "outputs": [],
   "source": [
    "# matrix A\n",
    "mat1 = np.array([\n",
    "    [1, 2],\n",
    "    [3, 4], \n",
    "    [0, 1]\n",
    "])"
   ]
  },
  {
   "cell_type": "code",
   "execution_count": 137,
   "id": "1669ef32-bbca-45b0-bf45-6dddb9b42d0b",
   "metadata": {},
   "outputs": [],
   "source": [
    "# matrix B\n",
    "mat2 = np.array([\n",
    "    [4, 3], \n",
    "    [2, 1]\n",
    "])"
   ]
  },
  {
   "cell_type": "markdown",
   "id": "24056768-5c2d-40c4-a6a1-29ea5a93df89",
   "metadata": {},
   "source": [
    "### define the function for the multiplication of two matrices takes two matrices as two arguments"
   ]
  },
  {
   "cell_type": "code",
   "execution_count": 139,
   "id": "26cca8b5-5893-4c96-afe0-ee9d691e8285",
   "metadata": {},
   "outputs": [],
   "source": [
    "def mat_dot(m1, m2):\n",
    "    row1, col1 = m1.shape\n",
    "    row2, col2 = m2.shape\n",
    "    # check the matrices multiplication condition \n",
    "    if col1 != row2:\n",
    "        raise ValueError(\"first matrix column != second matrix row!\")\n",
    "    # create the result matrix with the first matrix row as a row, and the second matrix column as a column \n",
    "    result = np.zeros((row1, col2))\n",
    "    # iterate over the first matrix row\n",
    "    for r in range(row1):\n",
    "    # iterate over the second matrix column\n",
    "        for c in range(col2):\n",
    "            total = 0\n",
    "    # iterate over the first matrix column and second matrix row\n",
    "            for i in range(row2):\n",
    "                total += m1[r, i] * m2[i, c]\n",
    "            result[r, c] = total\n",
    "    return result"
   ]
  },
  {
   "cell_type": "markdown",
   "id": "b7852dce-845b-45c9-8f37-e2fe29b26aca",
   "metadata": {},
   "source": [
    "### call the $mat\\_dot(m_1, m_2)$ function to get $A \\times B$"
   ]
  },
  {
   "cell_type": "code",
   "execution_count": 141,
   "id": "9c0d68ab-81d2-4c2f-b9af-d0be2c9b8c1a",
   "metadata": {},
   "outputs": [
    {
     "data": {
      "text/plain": [
       "array([[ 8.,  5.],\n",
       "       [20., 13.],\n",
       "       [ 2.,  1.]])"
      ]
     },
     "execution_count": 141,
     "metadata": {},
     "output_type": "execute_result"
    }
   ],
   "source": [
    "mat_dot(mat1, mat2)"
   ]
  }
 ],
 "metadata": {
  "kernelspec": {
   "display_name": "Python [conda env:test_env]",
   "language": "python",
   "name": "conda-env-test_env-py"
  },
  "language_info": {
   "codemirror_mode": {
    "name": "ipython",
    "version": 3
   },
   "file_extension": ".py",
   "mimetype": "text/x-python",
   "name": "python",
   "nbconvert_exporter": "python",
   "pygments_lexer": "ipython3",
   "version": "3.13.2"
  }
 },
 "nbformat": 4,
 "nbformat_minor": 5
}
